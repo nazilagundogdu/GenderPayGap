{
 "cells": [
  {
   "cell_type": "markdown",
   "id": "9b5d9e52",
   "metadata": {},
   "source": [
    "This notebook includes the 3rd step in a Machine Learning process; i.e. preprocessing the data. \n",
    "\n",
    "\n",
    "The data comes from [Wages By Education](https://www.kaggle.com/datasets/asaniczka/wages-by-education-in-the-usa-1973-2022), from Kaggle.\n",
    "\n",
    "In this notebook:\n",
    "\n",
    "1. [Setup](#setup)\n",
    "2. [melting the data](#melt)<br>\n",
    "3. [Transforming Cat to Numeric)](#data.trans)<br>\n",
    "4. [Preparing modeling data](#data.prep)<br>\n",
    "    4.1. [Splitting the data](#data.split)<br>\n",
    "    4.2. [Scaling the data](#data.scale)<br>\n"
   ]
  },
  {
   "cell_type": "markdown",
   "id": "8c954ea5",
   "metadata": {},
   "source": [
    "<a id='setup'></a>\n",
    "## 1. Setup"
   ]
  },
  {
   "cell_type": "code",
   "execution_count": 1,
   "id": "7acac8a7",
   "metadata": {},
   "outputs": [],
   "source": [
    "import pandas as pd\n",
    "\n",
    "# modeling\n",
    "from sklearn.model_selection import train_test_split\n",
    "from sklearn.preprocessing import StandardScaler"
   ]
  },
  {
   "cell_type": "code",
   "execution_count": 2,
   "id": "7ef183a5",
   "metadata": {},
   "outputs": [],
   "source": [
    "df = pd.read_csv('wages_by_education.csv')"
   ]
  },
  {
   "cell_type": "markdown",
   "id": "c1d1b7fa",
   "metadata": {},
   "source": [
    "In the EDA stage, I did some feature engineering, which I am going to use here as well. However, instead of doing manual imputations, I will use the `get_dummies` method of `pandas`.  \n",
    "\n",
    "First, I need to change the data format from wide to a long format."
   ]
  },
  {
   "cell_type": "markdown",
   "id": "00e0dabf",
   "metadata": {},
   "source": [
    "<a id='melt'></a>\n",
    "\n",
    "## 2. `melt`ing the data"
   ]
  },
  {
   "cell_type": "markdown",
   "id": "2cef4432",
   "metadata": {},
   "source": [
    "Before actually melting, I need to reset the index of the dataframe, so that \"year\" is our index."
   ]
  },
  {
   "cell_type": "code",
   "execution_count": 3,
   "id": "7314535c",
   "metadata": {},
   "outputs": [],
   "source": [
    "df.set_index('year', inplace= True)"
   ]
  },
  {
   "cell_type": "code",
   "execution_count": 4,
   "id": "1eae8e11",
   "metadata": {},
   "outputs": [],
   "source": [
    "df_melt = df.melt(var_name = 'Education', value_name = 'Hourly.Salary', ignore_index = False)"
   ]
  },
  {
   "cell_type": "code",
   "execution_count": 5,
   "id": "eadfdc0c",
   "metadata": {},
   "outputs": [
    {
     "data": {
      "text/html": [
       "<div>\n",
       "<style scoped>\n",
       "    .dataframe tbody tr th:only-of-type {\n",
       "        vertical-align: middle;\n",
       "    }\n",
       "\n",
       "    .dataframe tbody tr th {\n",
       "        vertical-align: top;\n",
       "    }\n",
       "\n",
       "    .dataframe thead th {\n",
       "        text-align: right;\n",
       "    }\n",
       "</style>\n",
       "<table border=\"1\" class=\"dataframe\">\n",
       "  <thead>\n",
       "    <tr style=\"text-align: right;\">\n",
       "      <th></th>\n",
       "      <th>Education</th>\n",
       "      <th>Hourly.Salary</th>\n",
       "    </tr>\n",
       "    <tr>\n",
       "      <th>year</th>\n",
       "      <th></th>\n",
       "      <th></th>\n",
       "    </tr>\n",
       "  </thead>\n",
       "  <tbody>\n",
       "    <tr>\n",
       "      <th>2022</th>\n",
       "      <td>less_than_hs</td>\n",
       "      <td>16.52</td>\n",
       "    </tr>\n",
       "    <tr>\n",
       "      <th>2021</th>\n",
       "      <td>less_than_hs</td>\n",
       "      <td>16.74</td>\n",
       "    </tr>\n",
       "    <tr>\n",
       "      <th>2020</th>\n",
       "      <td>less_than_hs</td>\n",
       "      <td>17.02</td>\n",
       "    </tr>\n",
       "    <tr>\n",
       "      <th>2019</th>\n",
       "      <td>less_than_hs</td>\n",
       "      <td>16.11</td>\n",
       "    </tr>\n",
       "    <tr>\n",
       "      <th>2018</th>\n",
       "      <td>less_than_hs</td>\n",
       "      <td>15.94</td>\n",
       "    </tr>\n",
       "  </tbody>\n",
       "</table>\n",
       "</div>"
      ],
      "text/plain": [
       "         Education  Hourly.Salary\n",
       "year                             \n",
       "2022  less_than_hs          16.52\n",
       "2021  less_than_hs          16.74\n",
       "2020  less_than_hs          17.02\n",
       "2019  less_than_hs          16.11\n",
       "2018  less_than_hs          15.94"
      ]
     },
     "execution_count": 5,
     "metadata": {},
     "output_type": "execute_result"
    }
   ],
   "source": [
    "df_melt.head()"
   ]
  },
  {
   "cell_type": "markdown",
   "id": "ae57e30d",
   "metadata": {},
   "source": [
    "Now, I separate the values in the \"Education\" column into 3 distinct values for \"Sex\", \"Race\" and level of education."
   ]
  },
  {
   "cell_type": "code",
   "execution_count": 6,
   "id": "a0aa5420",
   "metadata": {},
   "outputs": [],
   "source": [
    "df_melt['Sex'] = df_melt['Education'].apply(lambda x: 'male' if x.startswith('men') \n",
    "                                            else 'female' if x.startswith('women') \n",
    "                                            else None)"
   ]
  },
  {
   "cell_type": "code",
   "execution_count": 7,
   "id": "1820dd4f",
   "metadata": {},
   "outputs": [],
   "source": [
    "df_melt['Race'] = df_melt['Education'].apply(lambda x: 'white' if x.startswith('white')\n",
    "                                             else 'black' if x.startswith('black')\n",
    "                                             else 'hispanic')"
   ]
  },
  {
   "cell_type": "code",
   "execution_count": 8,
   "id": "a00a7aec",
   "metadata": {},
   "outputs": [],
   "source": [
    "# Define a list of the actual education levels\n",
    "education_levels = [\n",
    "    'less_than_hs',\n",
    "    'high_school',\n",
    "    'some_college',\n",
    "    'bachelors_degree',\n",
    "    'advanced_degree'\n",
    "]\n",
    "\n",
    "# Function to extract matching education level from label\n",
    "def extract_education(label):\n",
    "    for level in education_levels:\n",
    "        if label.endswith(level):\n",
    "            return level\n",
    "    return None  # fallback if no match found\n",
    "\n",
    "# Apply to our column\n",
    "df_melt['Education'] = df_melt['Education'].apply(extract_education)\n"
   ]
  },
  {
   "cell_type": "markdown",
   "id": "19711c2c",
   "metadata": {},
   "source": [
    "Now, I move the dependent variable to the last column."
   ]
  },
  {
   "cell_type": "code",
   "execution_count": 9,
   "id": "5c7e86bc",
   "metadata": {},
   "outputs": [],
   "source": [
    "df_melt = df_melt[['Sex', 'Race', 'Education', 'Hourly.Salary']]"
   ]
  },
  {
   "cell_type": "markdown",
   "id": "76575434",
   "metadata": {},
   "source": [
    "<a id='data.trans'></a>\n",
    "\n",
    "## 3. Transforming Cat to Numeric\n",
    "\n",
    "Using `panda`s `get_dummies` method, I transform the categorical data to numeric below."
   ]
  },
  {
   "cell_type": "code",
   "execution_count": 10,
   "id": "279186cd",
   "metadata": {},
   "outputs": [],
   "source": [
    "df_num = pd.get_dummies(df_melt, drop_first = True)"
   ]
  },
  {
   "cell_type": "code",
   "execution_count": 11,
   "id": "18b6a0f7",
   "metadata": {},
   "outputs": [
    {
     "data": {
      "text/html": [
       "<div>\n",
       "<style scoped>\n",
       "    .dataframe tbody tr th:only-of-type {\n",
       "        vertical-align: middle;\n",
       "    }\n",
       "\n",
       "    .dataframe tbody tr th {\n",
       "        vertical-align: top;\n",
       "    }\n",
       "\n",
       "    .dataframe thead th {\n",
       "        text-align: right;\n",
       "    }\n",
       "</style>\n",
       "<table border=\"1\" class=\"dataframe\">\n",
       "  <thead>\n",
       "    <tr style=\"text-align: right;\">\n",
       "      <th></th>\n",
       "      <th>Hourly.Salary</th>\n",
       "      <th>Sex_male</th>\n",
       "      <th>Race_hispanic</th>\n",
       "      <th>Race_white</th>\n",
       "      <th>Education_bachelors_degree</th>\n",
       "      <th>Education_high_school</th>\n",
       "      <th>Education_less_than_hs</th>\n",
       "      <th>Education_some_college</th>\n",
       "    </tr>\n",
       "    <tr>\n",
       "      <th>year</th>\n",
       "      <th></th>\n",
       "      <th></th>\n",
       "      <th></th>\n",
       "      <th></th>\n",
       "      <th></th>\n",
       "      <th></th>\n",
       "      <th></th>\n",
       "      <th></th>\n",
       "    </tr>\n",
       "  </thead>\n",
       "  <tbody>\n",
       "    <tr>\n",
       "      <th>2022</th>\n",
       "      <td>16.52</td>\n",
       "      <td>False</td>\n",
       "      <td>True</td>\n",
       "      <td>False</td>\n",
       "      <td>False</td>\n",
       "      <td>False</td>\n",
       "      <td>True</td>\n",
       "      <td>False</td>\n",
       "    </tr>\n",
       "    <tr>\n",
       "      <th>2021</th>\n",
       "      <td>16.74</td>\n",
       "      <td>False</td>\n",
       "      <td>True</td>\n",
       "      <td>False</td>\n",
       "      <td>False</td>\n",
       "      <td>False</td>\n",
       "      <td>True</td>\n",
       "      <td>False</td>\n",
       "    </tr>\n",
       "    <tr>\n",
       "      <th>2020</th>\n",
       "      <td>17.02</td>\n",
       "      <td>False</td>\n",
       "      <td>True</td>\n",
       "      <td>False</td>\n",
       "      <td>False</td>\n",
       "      <td>False</td>\n",
       "      <td>True</td>\n",
       "      <td>False</td>\n",
       "    </tr>\n",
       "    <tr>\n",
       "      <th>2019</th>\n",
       "      <td>16.11</td>\n",
       "      <td>False</td>\n",
       "      <td>True</td>\n",
       "      <td>False</td>\n",
       "      <td>False</td>\n",
       "      <td>False</td>\n",
       "      <td>True</td>\n",
       "      <td>False</td>\n",
       "    </tr>\n",
       "    <tr>\n",
       "      <th>2018</th>\n",
       "      <td>15.94</td>\n",
       "      <td>False</td>\n",
       "      <td>True</td>\n",
       "      <td>False</td>\n",
       "      <td>False</td>\n",
       "      <td>False</td>\n",
       "      <td>True</td>\n",
       "      <td>False</td>\n",
       "    </tr>\n",
       "  </tbody>\n",
       "</table>\n",
       "</div>"
      ],
      "text/plain": [
       "      Hourly.Salary  Sex_male  Race_hispanic  Race_white  \\\n",
       "year                                                       \n",
       "2022          16.52     False           True       False   \n",
       "2021          16.74     False           True       False   \n",
       "2020          17.02     False           True       False   \n",
       "2019          16.11     False           True       False   \n",
       "2018          15.94     False           True       False   \n",
       "\n",
       "      Education_bachelors_degree  Education_high_school  \\\n",
       "year                                                      \n",
       "2022                       False                  False   \n",
       "2021                       False                  False   \n",
       "2020                       False                  False   \n",
       "2019                       False                  False   \n",
       "2018                       False                  False   \n",
       "\n",
       "      Education_less_than_hs  Education_some_college  \n",
       "year                                                  \n",
       "2022                    True                   False  \n",
       "2021                    True                   False  \n",
       "2020                    True                   False  \n",
       "2019                    True                   False  \n",
       "2018                    True                   False  "
      ]
     },
     "execution_count": 11,
     "metadata": {},
     "output_type": "execute_result"
    }
   ],
   "source": [
    "df_num.head()"
   ]
  },
  {
   "cell_type": "markdown",
   "id": "d080a2a7",
   "metadata": {},
   "source": [
    "<a id='data.prep'></a>\n",
    "## 4. Preparing modeling data\n",
    "\n",
    "In order to avoid data leakage, we first need to split the data, then `fit` the scaler on the training data, followed by `transform`ing both the training and test sets on the same scaler."
   ]
  },
  {
   "cell_type": "markdown",
   "id": "98a77790",
   "metadata": {},
   "source": [
    "<a id='data.split'></a>\n",
    "### 4.1. Splitting the data\n",
    "\n",
    "Choosing \"Hourly.Salary\" as our dependent variable to be predicted, I first define `X` and `y` sets to be split to training and test sets after.\n",
    "\n",
    "For training and test set split, I chose to use 25% of the data as my test set. "
   ]
  },
  {
   "cell_type": "code",
   "execution_count": 13,
   "id": "f844be8d",
   "metadata": {},
   "outputs": [],
   "source": [
    "X = df_num.drop('Hourly.Salary', axis =1)\n",
    "y = df_num['Hourly.Salary']"
   ]
  },
  {
   "cell_type": "code",
   "execution_count": 14,
   "id": "001b3ed8",
   "metadata": {},
   "outputs": [],
   "source": [
    "X_train, X_test, y_train, y_test = train_test_split(X, y,\n",
    "                                                    test_size = 0.25,\n",
    "                                                    random_state = 42)"
   ]
  },
  {
   "cell_type": "markdown",
   "id": "f1879790",
   "metadata": {},
   "source": [
    "<a id='data.scale'></a>\n",
    "\n",
    "### 4.2. Scaling the data\n",
    "\n"
   ]
  },
  {
   "cell_type": "code",
   "execution_count": 16,
   "id": "a796673f",
   "metadata": {},
   "outputs": [],
   "source": [
    "scaler = StandardScaler()\n",
    "scaler.fit(X_train)\n",
    "\n",
    "scaled_X_train = scaler.transform(X_train)\n",
    "scaled_X_test = scaler.transform(X_test)"
   ]
  },
  {
   "cell_type": "markdown",
   "id": "ecc5640c",
   "metadata": {},
   "source": [
    "<hr style=\"border: 1px solid #333;\" />\n"
   ]
  },
  {
   "cell_type": "markdown",
   "id": "1d71d499",
   "metadata": {},
   "source": [
    "Writing our clean dataset that will be used in modeling later to a new `.csv` file for convenience."
   ]
  },
  {
   "cell_type": "code",
   "execution_count": 19,
   "id": "d9438ed4",
   "metadata": {},
   "outputs": [],
   "source": [
    "df_num.to_csv('clean_data.csv')"
   ]
  }
 ],
 "metadata": {
  "kernelspec": {
   "display_name": "Python 3 (ipykernel)",
   "language": "python",
   "name": "python3"
  },
  "language_info": {
   "codemirror_mode": {
    "name": "ipython",
    "version": 3
   },
   "file_extension": ".py",
   "mimetype": "text/x-python",
   "name": "python",
   "nbconvert_exporter": "python",
   "pygments_lexer": "ipython3",
   "version": "3.10.9"
  }
 },
 "nbformat": 4,
 "nbformat_minor": 5
}
